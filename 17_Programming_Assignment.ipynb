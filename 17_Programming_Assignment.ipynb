{
  "nbformat": 4,
  "nbformat_minor": 0,
  "metadata": {
    "colab": {
      "provenance": [],
      "authorship_tag": "ABX9TyMOLYoQC0zGad8hbcJaXueI",
      "include_colab_link": true
    },
    "kernelspec": {
      "name": "python3",
      "display_name": "Python 3"
    },
    "language_info": {
      "name": "python"
    }
  },
  "cells": [
    {
      "cell_type": "markdown",
      "metadata": {
        "id": "view-in-github",
        "colab_type": "text"
      },
      "source": [
        "<a href=\"https://colab.research.google.com/github/shubhangi9845/iNeuron-Assessments/blob/Python-Programming-Basic-Assignment/17_Programming_Assignment.ipynb\" target=\"_parent\"><img src=\"https://colab.research.google.com/assets/colab-badge.svg\" alt=\"Open In Colab\"/></a>"
      ]
    },
    {
      "cell_type": "markdown",
      "source": [
        "#Assignment 17"
      ],
      "metadata": {
        "id": "SxDgcfPOPvsB"
      }
    },
    {
      "cell_type": "markdown",
      "source": [
        "####1.Create a function that takes three arguments a, b, c and returns the sum of the numbers that are evenly divided by c from the range a, b inclusive ?\n",
        "\n",
        "Examples:\n",
        "\n",
        "evenly_divisible(1, 10, 20) ➞ 0     # No number between 1 and 10 can be evenly divided by 20. evenly_divisible(1, 10, 2) ➞ 30     # 2 + 4 + 6 + 8 + 10 = 30 evenly_divisible(1, 10, 3) ➞ 18     # 3 + 6 + 9 = 18"
      ],
      "metadata": {
        "id": "1UBys9kAP8O_"
      }
    },
    {
      "cell_type": "code",
      "source": [
        "def evenDivisible(a,b,c):\n",
        "    divList = []\n",
        "    for num in range(a,b+1):\n",
        "        if num%c == 0:\n",
        "            divList.append(num)\n",
        "    print(f'{a,b,c} ➞ {sum(divList)}')\n",
        "\n",
        "evenDivisible(1,10,20)\n",
        "evenDivisible(1,10,2)\n",
        "evenDivisible(1,10,3)"
      ],
      "metadata": {
        "colab": {
          "base_uri": "https://localhost:8080/"
        },
        "id": "52VumcFoQRv-",
        "outputId": "a5817ca6-6fa4-4c13-d0f5-13ab0efff6d0"
      },
      "execution_count": null,
      "outputs": [
        {
          "output_type": "stream",
          "name": "stdout",
          "text": [
            "(1, 10, 20) ➞ 0\n",
            "(1, 10, 2) ➞ 30\n",
            "(1, 10, 3) ➞ 18\n"
          ]
        }
      ]
    },
    {
      "cell_type": "markdown",
      "source": [
        "####2.Create a function that returns True if a given inequality expression is correct and False otherwise ?\n",
        "\n",
        "Examples:\n",
        "correct_signs(\"3 < 7 < 11\") ➞ True\n",
        "correct_signs(\"13 > 44 > 33 > 1\") ➞ False\n",
        "correct_signs(\"1 < 2 < 6 < 9 > 3\") ➞ True"
      ],
      "metadata": {
        "id": "oJ_2mjGrQhZF"
      }
    },
    {
      "cell_type": "code",
      "source": [
        "def checkEquality():\n",
        "    in_string = input('Enter the inequality: ')\n",
        "    out_bool = eval(in_string)\n",
        "    print(f'{in_string} ➞ {out_bool}')\n",
        "\n",
        "for x in range(3):\n",
        "    checkEquality()"
      ],
      "metadata": {
        "colab": {
          "base_uri": "https://localhost:8080/"
        },
        "id": "fOYGfLqKQko7",
        "outputId": "8862ef2a-5967-4999-8ebf-26eff34c3633"
      },
      "execution_count": null,
      "outputs": [
        {
          "output_type": "stream",
          "name": "stdout",
          "text": [
            "Enter the inequality: 3 < 7 < 11\n",
            "3 < 7 < 11 ➞ True\n",
            "Enter the inequality: 13 > 44 > 33 > 1\n",
            "13 > 44 > 33 > 1 ➞ False\n",
            "Enter the inequality: 1 < 2 < 6 < 9 > 3\n",
            "1 < 2 < 6 < 9 > 3 ➞ True\n"
          ]
        }
      ]
    },
    {
      "cell_type": "markdown",
      "source": [
        "####3.Create a function that replaces all the vowels in a string with a specified character ?\n",
        "\n",
        "Examples:\n",
        "replace_vowels(\"the aardvark\", \"#\") ➞ \"th# ##rdv#rk\"\n",
        "replace_vowels(\"minnie mouse\", \"?\") ➞ \"m?nn?? m??s?\"\n",
        "replace_vowels(\"shakespeare\", \"*\") ➞ \"shksp**r\""
      ],
      "metadata": {
        "id": "3pmllU-DQ4VR"
      }
    },
    {
      "cell_type": "code",
      "source": [
        "def replaceVowels():\n",
        "    vowels = ['a','e','i','o','u','A','E','I','O','U']\n",
        "    in_string = input(\"String: \")\n",
        "    in_string_copy = in_string\n",
        "    in_char = input('Replacement character: ')\n",
        "    for ele in in_string:\n",
        "        if ele in vowels:\n",
        "            in_string = in_string.replace(ele,in_char)\n",
        "    print(f'{in_string_copy} {in_char} ➞ {in_string}')\n",
        "\n",
        "for x in range(3):\n",
        "    replaceVowels()"
      ],
      "metadata": {
        "colab": {
          "base_uri": "https://localhost:8080/"
        },
        "id": "n97GfZstRC9U",
        "outputId": "a04b652f-bde1-436c-9e93-ef05c53a287e"
      },
      "execution_count": null,
      "outputs": [
        {
          "output_type": "stream",
          "name": "stdout",
          "text": [
            "String: the aardvark\n",
            "Replacement character: #\n",
            "the aardvark # ➞ th# ##rdv#rk\n",
            "String: minnie mouse\n",
            "Replacement character: *\n",
            "minnie mouse * ➞ m*nn** m**s*\n",
            "String: shakespeare\n",
            "Replacement character: ?\n",
            "shakespeare ? ➞ sh?k?sp??r?\n"
          ]
        }
      ]
    },
    {
      "cell_type": "markdown",
      "source": [
        "####4.Write a function that calculates the factorial of a number recursively ?\n",
        "\n",
        "Examples:\n",
        "\n",
        "factorial(5) ➞ 120\n",
        "\n",
        "factorial(3) ➞ 6\n",
        "\n",
        "factorial(1) ➞ 1\n",
        "\n",
        "factorial(0) ➞ 1"
      ],
      "metadata": {
        "id": "cYesdwv5S12Z"
      }
    },
    {
      "cell_type": "code",
      "source": [
        "def factorial(n):\n",
        "    if n==0:\n",
        "        return 1\n",
        "    return n * factorial(n-1)\n",
        "\n",
        "print(f'factorial(5) ➞ {factorial(5)}')\n",
        "print(f'factorial(3) ➞ {factorial(3)}')\n",
        "print(f'factorial(1) ➞ {factorial(1)}')\n",
        "print(f'factorial(0) ➞ {factorial(0)}')"
      ],
      "metadata": {
        "colab": {
          "base_uri": "https://localhost:8080/"
        },
        "id": "BhUBZ087TDIW",
        "outputId": "89b5b210-24b0-4a4e-8e67-33567f86ed40"
      },
      "execution_count": null,
      "outputs": [
        {
          "output_type": "stream",
          "name": "stdout",
          "text": [
            "factorial(5) ➞ 120\n",
            "factorial(3) ➞ 6\n",
            "factorial(1) ➞ 1\n",
            "factorial(0) ➞ 1\n"
          ]
        }
      ]
    },
    {
      "cell_type": "markdown",
      "source": [
        "####5.Hamming distance is the number of characters that differ between two strings ?\n",
        "\n",
        "To illustrate:\n",
        "\n",
        "String1: \"abcbba\"\n",
        "\n",
        "String2: \"abcbda\"\n",
        "\n",
        "Hamming Distance: 1 - \"b\" vs. \"d\" is the only difference.\n",
        "Create a function that computes the hamming distance between two strings.\n",
        "\n",
        "Examples:\n",
        "\n",
        "hamming_distance(\"abcde\", \"bcdef\") ➞ 5\n",
        "\n",
        "hamming_distance(\"abcde\", \"abcde\") ➞ 0\n",
        "\n",
        "hamming_distance(\"strong\", \"strung\") ➞ 1"
      ],
      "metadata": {
        "id": "EXCdoODTTNhN"
      }
    },
    {
      "cell_type": "code",
      "source": [
        "def genHamDistance():\n",
        "    in_string_1 = input('Enter the String_1: ')\n",
        "    in_string_2 = input('Enter the String_2: ')\n",
        "    if len(in_string_1) == len(in_string_2):\n",
        "        count = 0\n",
        "        for i in range(len(in_string_1)):\n",
        "            if in_string_1[i] != in_string_2[i]:\n",
        "                count = count+1\n",
        "        print(f'Hamning Distance b/w {in_string_1} and {in_string_2} ➞ {count}')\n",
        "    else:\n",
        "        print('Both Strings Must be of Same Length')\n",
        "\n",
        "for x in range(3):\n",
        "    genHamDistance()"
      ],
      "metadata": {
        "colab": {
          "base_uri": "https://localhost:8080/"
        },
        "id": "d9Bwowe6Todu",
        "outputId": "e6f25ca8-24ba-47e4-b260-183f0de07382"
      },
      "execution_count": null,
      "outputs": [
        {
          "output_type": "stream",
          "name": "stdout",
          "text": [
            "Enter the String_1: abcde\n",
            "Enter the String_2: bcdef\n",
            "Hamning Distance b/w abcde and bcdef ➞ 5\n",
            "Enter the String_1: abcde\n",
            "Enter the String_2: abcde\n",
            "Hamning Distance b/w abcde and abcde ➞ 0\n",
            "Enter the String_1: strong\n",
            "Enter the String_2: strung\n",
            "Hamning Distance b/w strong and strung ➞ 1\n"
          ]
        }
      ]
    },
    {
      "cell_type": "markdown",
      "source": [],
      "metadata": {
        "id": "_TF2LJEEQM1D"
      }
    }
  ]
}