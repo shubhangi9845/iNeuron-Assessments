{
  "nbformat": 4,
  "nbformat_minor": 0,
  "metadata": {
    "colab": {
      "provenance": [],
      "authorship_tag": "ABX9TyPhkJnDHyIaoJ2BFv3ZaHIj",
      "include_colab_link": true
    },
    "kernelspec": {
      "name": "python3",
      "display_name": "Python 3"
    },
    "language_info": {
      "name": "python"
    }
  },
  "cells": [
    {
      "cell_type": "markdown",
      "metadata": {
        "id": "view-in-github",
        "colab_type": "text"
      },
      "source": [
        "<a href=\"https://colab.research.google.com/github/shubhangi9845/iNeuron-Assessments/blob/Python-Programming-Basic-Assignment/22_Programming_Assignment.ipynb\" target=\"_parent\"><img src=\"https://colab.research.google.com/assets/colab-badge.svg\" alt=\"Open In Colab\"/></a>"
      ]
    },
    {
      "cell_type": "code",
      "execution_count": null,
      "metadata": {
        "id": "dLqYVDJdcqQt"
      },
      "outputs": [],
      "source": []
    },
    {
      "cell_type": "markdown",
      "source": [
        "##Assignment 22"
      ],
      "metadata": {
        "id": "RYEYM6mJcxss"
      }
    },
    {
      "cell_type": "markdown",
      "source": [
        "####1.Create a function that takes three parameters where:\n",
        "x is the start of the range (inclusive).\n",
        "\n",
        "y is the end of the range (inclusive).\n",
        "\n",
        "n is the divisor to be checked against.\n",
        "\n",
        "Return an ordered list with numbers in the range that are divisible by the third parameter n. Return an empty list if there are no numbers that are divisible by n. Examples:\n",
        "\n",
        "list_operation(1, 10, 3) ➞ [3, 6, 9]\n",
        "\n",
        "list_operation(7, 9, 2) ➞ [8]\n",
        "\n",
        "list_operation(15, 20, 7) ➞ []"
      ],
      "metadata": {
        "id": "h50551zCdAxw"
      }
    },
    {
      "cell_type": "code",
      "source": [
        "def list_operation(start,end,divisor):\n",
        "    out_list = []\n",
        "    for ele in range(start,end+1):\n",
        "        if ele%divisor == 0:\n",
        "            out_list.append(ele)\n",
        "    print(f'Output: ➞ {out_list}')\n",
        "\n",
        "list_operation(1, 10, 3)\n",
        "list_operation(7, 9, 2)\n",
        "list_operation(15, 20, 7)\n"
      ],
      "metadata": {
        "colab": {
          "base_uri": "https://localhost:8080/"
        },
        "id": "O-i8dLqidYdt",
        "outputId": "9df9f138-bd96-47f2-de0d-da91c4121a87"
      },
      "execution_count": null,
      "outputs": [
        {
          "output_type": "stream",
          "name": "stdout",
          "text": [
            "Output: ➞ [3, 6, 9]\n",
            "Output: ➞ [8]\n",
            "Output: ➞ []\n"
          ]
        }
      ]
    },
    {
      "cell_type": "markdown",
      "source": [
        "####2.Create a function that takes in two lists and returns True if the second list follows the first list by one element, and False otherwise. In other words, determine if the second list is the first list shifted to the right by 1.\n",
        "Examples:\n",
        "\n",
        "simon_says([1, 2], [5, 1]) ➞ True\n",
        "\n",
        "simon_says([1, 2], [5, 5]) ➞ False\n",
        "\n",
        "simon_says([1, 2, 3, 4, 5], [0, 1, 2, 3, 4]) ➞ True\n",
        "\n",
        "simon_says([1, 2, 3, 4, 5], [5, 5, 1, 2, 3]) ➞ False\n",
        "\n",
        "Notes:\n",
        "\n",
        "1. Both input lists will be of the same length, and will have a minimum length of 2.\n",
        "\n",
        "2. The values of the 0-indexed element in the second list and the n-1th indexed element in the first list do not matter."
      ],
      "metadata": {
        "id": "faHzaCnCdndC"
      }
    },
    {
      "cell_type": "code",
      "source": [
        "def simon_says(in_list_1,in_list_2):\n",
        "    if len(in_list_1) == len(in_list_1) and len(in_list_1) >=2 and len(in_list_1) >=2:\n",
        "        if(in_list_1[:-1] == in_list_2[1:]):\n",
        "            print(f'{in_list_1,in_list_2} ➞ {True}')\n",
        "        else:\n",
        "            print(f'{in_list_1,in_list_2} ➞ {False}')\n",
        "\n",
        "simon_says([1, 2], [5, 1])\n",
        "simon_says([1, 2], [5, 5])\n",
        "simon_says([1, 2, 3, 4, 5], [0, 1, 2, 3, 4])\n",
        "simon_says([1, 2, 3, 4, 5], [5, 5, 1, 2, 3])"
      ],
      "metadata": {
        "colab": {
          "base_uri": "https://localhost:8080/"
        },
        "id": "X698XaS9du8I",
        "outputId": "d56e5177-65c3-40b3-ba16-492faf500bfa"
      },
      "execution_count": null,
      "outputs": [
        {
          "output_type": "stream",
          "name": "stdout",
          "text": [
            "([1, 2], [5, 1]) ➞ True\n",
            "([1, 2], [5, 5]) ➞ False\n",
            "([1, 2, 3, 4, 5], [0, 1, 2, 3, 4]) ➞ True\n",
            "([1, 2, 3, 4, 5], [5, 5, 1, 2, 3]) ➞ False\n"
          ]
        }
      ]
    },
    {
      "cell_type": "markdown",
      "source": [
        "####3.A group of friends have decided to start a secret society. The name will be the first letter of each of their names, sorted in a alphabetical order ? Create a function that takes in a list of names and returns the name of the secret society ?\n",
        "Examples:\n",
        "\n",
        "society_name([\"Adam\", \"Sarah\", \"Malcolm\"]) ➞ \"AMS\"\n",
        "\n",
        "society_name([\"Harry\", \"Newt\", \"Luna\", \"Cho\"]) ➞ \"CHLN\"\n",
        "\n",
        "society_name([\"Phoebe\", \"Chandler\", \"Rachel\", \"Ross\", \"Monica\", \"Joey\"])"
      ],
      "metadata": {
        "id": "nbBIlcXYd8x_"
      }
    },
    {
      "cell_type": "code",
      "source": [
        "def society_name(in_list):\n",
        "    out_string = []\n",
        "    for ele in in_list:\n",
        "        out_string.append(ele[0])\n",
        "    output = ''.join(sorted(out_string))\n",
        "    print(f'{in_list} ➞ {output}')\n",
        "\n",
        "society_name([\"Adam\", \"Sarah\", \"Malcolm\"])\n",
        "society_name([\"Harry\", \"Newt\", \"Luna\", \"Cho\"])\n",
        "society_name([\"Phoebe\", \"Chandler\", \"Rachel\", \"Ross\", \"Monica\", \"Joey\"])"
      ],
      "metadata": {
        "colab": {
          "base_uri": "https://localhost:8080/"
        },
        "id": "d5qjmwkYeCSC",
        "outputId": "b5a3ed68-1380-4b66-bc07-5ac34f747c32"
      },
      "execution_count": null,
      "outputs": [
        {
          "output_type": "stream",
          "name": "stdout",
          "text": [
            "['Adam', 'Sarah', 'Malcolm'] ➞ AMS\n",
            "['Harry', 'Newt', 'Luna', 'Cho'] ➞ CHLN\n",
            "['Phoebe', 'Chandler', 'Rachel', 'Ross', 'Monica', 'Joey'] ➞ CJMPRR\n"
          ]
        }
      ]
    },
    {
      "cell_type": "markdown",
      "source": [
        "####4.An isogram is a word that has no duplicate letters. Create a function that takes a string and returns either True or False depending on whether or not it's an \"isogram\".\n",
        "Examples:\n",
        "\n",
        "is_isogram(\"Algorism\") ➞ True\n",
        "\n",
        "is_isogram(\"PasSword\") ➞ False\n",
        "\n",
        "#### Not case sensitive.\n",
        "is_isogram(\"Consecutive\") ➞ False\n",
        "\n",
        "Notes:\n",
        "\n",
        "Ignore letter case (should not be case sensitive).\n",
        "\n",
        "All test cases contain valid one word strings."
      ],
      "metadata": {
        "id": "a8AuhajGeJ4H"
      }
    },
    {
      "cell_type": "code",
      "source": [
        "def is_isogram(in_string):\n",
        "    lower_in_string = in_string.lower()\n",
        "    if len(lower_in_string) == len(set(lower_in_string)):\n",
        "        print(f'{in_string} ➞ {True}')\n",
        "    else:\n",
        "        print(f'{in_string} ➞ {False}')\n",
        "\n",
        "is_isogram(\"Algorism\")\n",
        "is_isogram(\"PasSword\")\n",
        "is_isogram(\"Consecutive\")"
      ],
      "metadata": {
        "colab": {
          "base_uri": "https://localhost:8080/"
        },
        "id": "o6pcgTdceR9W",
        "outputId": "d3a14872-6e2f-4c1e-cb30-db6ec27c3ea3"
      },
      "execution_count": null,
      "outputs": [
        {
          "output_type": "stream",
          "name": "stdout",
          "text": [
            "Algorism ➞ True\n",
            "PasSword ➞ False\n",
            "Consecutive ➞ False\n"
          ]
        }
      ]
    },
    {
      "cell_type": "markdown",
      "source": [
        "####5.Create a function that takes a string and returns True or False, depending on whether the characters are in order or not ?\n",
        "Examples:\n",
        "\n",
        "is_in_order(\"abc\") ➞ True\n",
        "\n",
        "is_in_order(\"edabit\") ➞ False\n",
        "\n",
        "is_in_order(\"123\") ➞ True\n",
        "\n",
        "is_in_order(\"xyzz\") ➞ True\n",
        "\n",
        "Notes:\n",
        "You don't have to handle empty strings."
      ],
      "metadata": {
        "id": "0Cz0mJKzesbF"
      }
    },
    {
      "cell_type": "code",
      "source": [
        "def is_in_order(in_string):\n",
        "    in_string_sorted = ''.join(sorted(in_string))\n",
        "    if in_string == in_string_sorted:\n",
        "        print(f'{in_string} ➞ {True}')\n",
        "    else:\n",
        "       print(f'{in_string} ➞ {False}')\n",
        "\n",
        "is_in_order(\"abc\")\n",
        "is_in_order(\"edabit\")\n",
        "is_in_order(\"123\")\n",
        "is_in_order(\"xyzz\")"
      ],
      "metadata": {
        "colab": {
          "base_uri": "https://localhost:8080/"
        },
        "id": "wV9uvQLmeyqP",
        "outputId": "08718906-a7e7-4a39-a6ec-072de403805c"
      },
      "execution_count": null,
      "outputs": [
        {
          "output_type": "stream",
          "name": "stdout",
          "text": [
            "abc ➞ True\n",
            "edabit ➞ False\n",
            "123 ➞ True\n",
            "xyzz ➞ True\n"
          ]
        }
      ]
    }
  ]
}