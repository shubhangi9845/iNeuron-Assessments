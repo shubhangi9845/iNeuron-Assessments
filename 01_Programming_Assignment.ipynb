{
  "nbformat": 4,
  "nbformat_minor": 0,
  "metadata": {
    "colab": {
      "provenance": [],
      "toc_visible": true,
      "authorship_tag": "ABX9TyMDqUoyfgaM4RYwFlVVwd5Q",
      "include_colab_link": true
    },
    "kernelspec": {
      "name": "python3",
      "display_name": "Python 3"
    },
    "language_info": {
      "name": "python"
    }
  },
  "cells": [
    {
      "cell_type": "markdown",
      "metadata": {
        "id": "view-in-github",
        "colab_type": "text"
      },
      "source": [
        "<a href=\"https://colab.research.google.com/github/shubhangi9845/iNeuron-Assessments/blob/Python-Programming-Basic-Assignment/01_Programming_Assignment.ipynb\" target=\"_parent\"><img src=\"https://colab.research.google.com/assets/colab-badge.svg\" alt=\"Open In Colab\"/></a>"
      ]
    },
    {
      "cell_type": "markdown",
      "source": [
        "#Assignment 1"
      ],
      "metadata": {
        "id": "ythQsXXSiJ4r"
      }
    },
    {
      "cell_type": "markdown",
      "source": [
        "1.Write a Python program to print 'Hello Python' ?"
      ],
      "metadata": {
        "id": "k8nnQGlfie-T"
      }
    },
    {
      "cell_type": "code",
      "source": [
        "print('Hello Python')"
      ],
      "metadata": {
        "colab": {
          "base_uri": "https://localhost:8080/"
        },
        "id": "EP_mkFmNijKV",
        "outputId": "c0671a55-4a28-4fa8-f736-181d1f0fbbd6"
      },
      "execution_count": null,
      "outputs": [
        {
          "output_type": "stream",
          "name": "stdout",
          "text": [
            "Hello Python\n"
          ]
        }
      ]
    },
    {
      "cell_type": "markdown",
      "source": [
        "2.Write a Python program to do arithmetic operations addition and division ?"
      ],
      "metadata": {
        "id": "SwSEJV8_i5Xn"
      }
    },
    {
      "cell_type": "code",
      "source": [
        "import operator\n",
        "\n",
        "ops = { \"+\": operator.add, \"-\": operator.sub, \"*\":operator.mul, \"/\":operator.truediv }\n",
        "\n",
        "print('Select a Arithmetic Operation: \\\n",
        "        \\n1.Addition(+)\\\n",
        "        \\n2.Division(-)\\\n",
        "        \\n2.Multiplication(*)\\\n",
        "        \\n4.Division(/)\\\n",
        "        \\n3.Stop(0)\\n')\n",
        "\n",
        "\n",
        "while True:\n",
        "    operator = input('Enter a arithmetic operation -> ')\n",
        "    if operator == '0':\n",
        "        print(\"Program Stopped successfully\")\n",
        "        break\n",
        "    elif operator not in ['+','-','*','/']:\n",
        "        print(\"Please enter a valid operator\")\n",
        "    else:\n",
        "        num_1 = int(input('\\nEnter 1st Number: '))\n",
        "        num_2 = int(input('Enter 2nd Number: '))\n",
        "        print('{}{}{}={}\\n'.format(num_1, operator, num_2, ops[operator](num_1,num_2)))\n"
      ],
      "metadata": {
        "colab": {
          "base_uri": "https://localhost:8080/"
        },
        "id": "e96eIOJBjE5Y",
        "outputId": "c17792e0-9772-4008-f9fd-d7b55436ca40"
      },
      "execution_count": null,
      "outputs": [
        {
          "output_type": "stream",
          "name": "stdout",
          "text": [
            "Select a Arithmetic Operation:         \n",
            "1.Addition(+)        \n",
            "2.Division(-)        \n",
            "2.Multiplication(*)        \n",
            "4.Division(/)        \n",
            "3.Stop(0)\n",
            "\n",
            "Enter a arithmetic operation -> +\n",
            "\n",
            "Enter 1st Number: 12\n",
            "Enter 2nd Number: 5\n",
            "12+5=17\n",
            "\n",
            "Enter a arithmetic operation -> -\n",
            "\n",
            "Enter 1st Number: 13\n",
            "Enter 2nd Number: 11\n",
            "13-11=2\n",
            "\n",
            "Enter a arithmetic operation -> *\n",
            "\n",
            "Enter 1st Number: 2\n",
            "Enter 2nd Number: 5\n",
            "2*5=10\n",
            "\n",
            "Enter a arithmetic operation -> /\n",
            "\n",
            "Enter 1st Number: 25\n",
            "Enter 2nd Number: 5\n",
            "25/5=5.0\n",
            "\n",
            "Enter a arithmetic operation -> 0\n",
            "Program Stopped successfully\n"
          ]
        }
      ]
    },
    {
      "cell_type": "markdown",
      "source": [
        "3.Write a Python program to find the area of a triangle ?"
      ],
      "metadata": {
        "id": "fzkqWQPFjyRU"
      }
    },
    {
      "cell_type": "code",
      "source": [
        "height = int(input('Enter height of triangle: '))\n",
        "base = int(input('Enter base of triangle: '))\n",
        "\n",
        "def areaOfTriangle(height, base):\n",
        "    print('\\nArea of triangle ->', 0.5*height*base)\n",
        "\n",
        "areaOfTriangle(height,base)"
      ],
      "metadata": {
        "colab": {
          "base_uri": "https://localhost:8080/"
        },
        "id": "L4Dl0i1wj7tG",
        "outputId": "ea2bd535-9a42-497b-e09b-d0333c32ce58"
      },
      "execution_count": null,
      "outputs": [
        {
          "output_type": "stream",
          "name": "stdout",
          "text": [
            "Enter height of triangle: 50\n",
            "Enter base of triangle: 20\n",
            "\n",
            "Area of triangle -> 500.0\n"
          ]
        }
      ]
    },
    {
      "cell_type": "markdown",
      "source": [
        "4.Write a Python program to swap two variables ?"
      ],
      "metadata": {
        "id": "XeDdQ1JfkPCf"
      }
    },
    {
      "cell_type": "code",
      "source": [
        "num_1 = int(input(\"Enter First Number: \"))\n",
        "num_2 = int(input(\"Enter Second Number: \"))\n",
        "\n",
        "def swapNumbers(a,b):\n",
        "    temp = a\n",
        "    a = b\n",
        "    b = temp\n",
        "    return a,b\n",
        "\n",
        "print('Before swapping -> ',num_1, num_2)\n",
        "num_1, num_2 = swapNumbers(num_1, num_2)\n",
        "print('After swapping -> ',num_1,num_2)\n"
      ],
      "metadata": {
        "colab": {
          "base_uri": "https://localhost:8080/"
        },
        "id": "zK7bRLPikQGd",
        "outputId": "53e270a3-b4c9-45d6-9a6a-2a3e6570f20f"
      },
      "execution_count": null,
      "outputs": [
        {
          "output_type": "stream",
          "name": "stdout",
          "text": [
            "Enter First Number: 50\n",
            "Enter Second Number: 60\n",
            "Before swapping ->  50 60\n",
            "After swapping ->  60 50\n"
          ]
        }
      ]
    },
    {
      "cell_type": "markdown",
      "source": [
        "5.Write a Python program to generate a random number ?"
      ],
      "metadata": {
        "id": "qOdymOdKkw9c"
      }
    },
    {
      "cell_type": "code",
      "source": [
        "from random import randint\n",
        "\n",
        "def generateRandomNumber(start=0, end=100000):\n",
        "    print('Random number -> ',randint(start,end))\n",
        "\n",
        "# Generating random numbers without arguments\n",
        "generateRandomNumber()\n",
        "\n",
        "# Generating random numbers with arguments\n",
        "generateRandomNumber(0,100)"
      ],
      "metadata": {
        "colab": {
          "base_uri": "https://localhost:8080/"
        },
        "id": "KW69doLZk0kZ",
        "outputId": "d43ea6d8-886a-4920-f127-b4644dfc34a6"
      },
      "execution_count": null,
      "outputs": [
        {
          "output_type": "stream",
          "name": "stdout",
          "text": [
            "Random number ->  21982\n",
            "Random number ->  14\n"
          ]
        }
      ]
    }
  ]
}