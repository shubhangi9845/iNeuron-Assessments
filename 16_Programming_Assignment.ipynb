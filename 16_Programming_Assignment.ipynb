{
  "nbformat": 4,
  "nbformat_minor": 0,
  "metadata": {
    "colab": {
      "provenance": [],
      "authorship_tag": "ABX9TyNjZvfzLGlCos2r+rxa2D+w",
      "include_colab_link": true
    },
    "kernelspec": {
      "name": "python3",
      "display_name": "Python 3"
    },
    "language_info": {
      "name": "python"
    }
  },
  "cells": [
    {
      "cell_type": "markdown",
      "metadata": {
        "id": "view-in-github",
        "colab_type": "text"
      },
      "source": [
        "<a href=\"https://colab.research.google.com/github/shubhangi9845/iNeuron-Assessments/blob/Python-Programming-Basic-Assignment/16_Programming_Assignment.ipynb\" target=\"_parent\"><img src=\"https://colab.research.google.com/assets/colab-badge.svg\" alt=\"Open In Colab\"/></a>"
      ]
    },
    {
      "cell_type": "markdown",
      "source": [
        "##Assignment 16"
      ],
      "metadata": {
        "id": "RfQ4x3oxMu2H"
      }
    },
    {
      "cell_type": "markdown",
      "source": [
        "####1.Write a function that stutters a word as if someone is struggling to read it. The first two letters are repeated twice with an ellipsis ... and space after each, and then the word is pronounced with a question mark ?\n",
        "Examples: stutter(\"incredible\") ➞ \"in... in... incredible?\"\n",
        "stutter(\"enthusiastic\") ➞ \"en... en... enthusiastic?\"\n",
        "stutter(\"outstanding\") ➞ \"ou... ou... outstanding?\"\n",
        "Hint :- Assume all input is in lower case and at least two characters long."
      ],
      "metadata": {
        "id": "dm5OPB9uM7GJ"
      }
    },
    {
      "cell_type": "code",
      "source": [
        "def stutterWord():\n",
        "    in_string = input('Enter the Word :')\n",
        "    out_string = in_string.replace(in_string[0:2],((in_string[0:2]+'... ')*2)+ in_string[0:2])  +'?'\n",
        "    print(f'{in_string} ➞ {out_string}')\n",
        "\n",
        "for i in range(3):\n",
        "    stutterWord()"
      ],
      "metadata": {
        "colab": {
          "base_uri": "https://localhost:8080/"
        },
        "id": "7Rnb9W2DNLaJ",
        "outputId": "56f7f32c-3588-4846-f05a-dc0678b1eb71"
      },
      "execution_count": null,
      "outputs": [
        {
          "output_type": "stream",
          "name": "stdout",
          "text": [
            "Enter the Word :Programming\n",
            "Programming ➞ Pr... Pr... Programming?\n",
            "Enter the Word :pronounced \n",
            "pronounced  ➞ pr... pr... pronounced ?\n",
            "Enter the Word :struggling\n",
            "struggling ➞ st... st... struggling?\n"
          ]
        }
      ]
    },
    {
      "cell_type": "markdown",
      "source": [
        "####2..Create a function that takes an angle in radians and returns the corresponding angle in degrees rounded to one decimal place ?\n",
        "Examples:\n",
        "radians_to_degrees(1) ➞ 57.3\n",
        "\n",
        "radians_to_degrees(20) ➞ 1145.9\n",
        "\n",
        "radians_to_degrees(50) ➞ 2864.8"
      ],
      "metadata": {
        "id": "oP67jHCxNii-"
      }
    },
    {
      "cell_type": "code",
      "source": [
        "import math\n",
        "def radianToDegree():\n",
        "    in_num = int(input('Enter the angle in Radians: '))\n",
        "    out_num = (180/math.pi)*in_num\n",
        "    print(f'{in_num} radian(s) ➞ {out_num:.1f} degrees')\n",
        "\n",
        "for x in range(3):\n",
        "    radianToDegree()"
      ],
      "metadata": {
        "colab": {
          "base_uri": "https://localhost:8080/"
        },
        "id": "6nzHYt6VNsi9",
        "outputId": "fa2807d2-4b99-42d9-9970-5b885b1b5c94"
      },
      "execution_count": null,
      "outputs": [
        {
          "output_type": "stream",
          "name": "stdout",
          "text": [
            "Enter the angle in Radians: 1\n",
            "1 radian(s) ➞ 57.3 degrees\n",
            "Enter the angle in Radians: 2\n",
            "2 radian(s) ➞ 114.6 degrees\n",
            "Enter the angle in Radians: 40\n",
            "40 radian(s) ➞ 2291.8 degrees\n"
          ]
        }
      ]
    },
    {
      "cell_type": "markdown",
      "source": [
        "####3.In this challenge, establish if a given integer num is a Curzon number. If 1 plus 2 elevated to num is exactly divisible by 1 plus 2 multiplied by num, then num is a Curzon number. Given a non-negative integer num, implement a function that returns True if num is a Curzon number, or False otherwise.\n",
        "Examples: is_curzon(5) ➞ True     # 2 ** 5 + 1 = 33     # 2 * 5 + 1 = 11     # 33 is a multiple of 11 is_curzon(10) ➞ False     # 2 ** 10 + 1 = 1025     # 2 * 10 + 1 = 21     # 1025 is not a multiple of 21 is_curzon(14) ➞ True     # 2 ** 14 + 1 = 16385     # 2 * 14 + 1 = 29     # 16385 is a multiple of 29"
      ],
      "metadata": {
        "id": "_lMsG16bN5_Z"
      }
    },
    {
      "cell_type": "code",
      "source": [
        "def checkCurzon():\n",
        "    in_num = int(input(\"Enter a number: \"))\n",
        "    if (pow(2,in_num)+1)%((2*in_num)+1) == 0:\n",
        "        print(f'{in_num} is a Curzon Number')\n",
        "    else:\n",
        "        print(f'{in_num} is Not a Curzon Number')\n",
        "\n",
        "for x in range(4):\n",
        "    checkCurzon()"
      ],
      "metadata": {
        "colab": {
          "base_uri": "https://localhost:8080/"
        },
        "id": "KTPQxkfsN8Ol",
        "outputId": "3d727ff9-b808-4779-a231-1c18b78c8e83"
      },
      "execution_count": null,
      "outputs": [
        {
          "output_type": "stream",
          "name": "stdout",
          "text": [
            "Enter a number: 6\n",
            "6 is a Curzon Number\n",
            "Enter a number: 5\n",
            "5 is a Curzon Number\n",
            "Enter a number: 10\n",
            "10 is Not a Curzon Number\n",
            "Enter a number: 12\n",
            "12 is Not a Curzon Number\n"
          ]
        }
      ]
    },
    {
      "cell_type": "markdown",
      "source": [
        "####4.Given the side length x find the area of a hexagon ?\n",
        "Examples: area_of_hexagon(1) ➞ 2.6\n",
        "area_of_hexagon(2) ➞ 10.4\n",
        "area_of_hexagon(3) ➞ 23.4"
      ],
      "metadata": {
        "id": "B6dG4hOOOH-4"
      }
    },
    {
      "cell_type": "code",
      "source": [
        "import math\n",
        "def areaOfHexagon():\n",
        "    in_num = int(input('Enter the side length of a Hexagon: '))\n",
        "    out_num = ((3*math.sqrt(3))/2)*(pow(in_num,2))\n",
        "    print(f'Area for Hexagon of sidelength {in_num} ➞ {out_num:.1f}')\n",
        "\n",
        "for x in range(3):\n",
        "    areaOfHexagon()"
      ],
      "metadata": {
        "colab": {
          "base_uri": "https://localhost:8080/"
        },
        "id": "FSqScPsxOM7f",
        "outputId": "66ab570e-8827-429a-d17e-4bffd70b495f"
      },
      "execution_count": null,
      "outputs": [
        {
          "output_type": "stream",
          "name": "stdout",
          "text": [
            "Enter the side length of a Hexagon: 1\n",
            "Area for Hexagon of sidelength 1 ➞ 2.6\n",
            "Enter the side length of a Hexagon: 2\n",
            "Area for Hexagon of sidelength 2 ➞ 10.4\n",
            "Enter the side length of a Hexagon: 3\n",
            "Area for Hexagon of sidelength 3 ➞ 23.4\n"
          ]
        }
      ]
    },
    {
      "cell_type": "markdown",
      "source": [
        "####5.Create a function that returns a base-2 (binary) representation of a base-10 (decimal) string number. To convert is simple:\n",
        "((2) means base-2 and (10) means base-10)\n",
        "010101001(2) = 1 + 8 + 32 + 128.\n",
        "Going from right to left, the value of the most right bit is 1, now from that every bit to the left will be x2 the value, value of an 8 bit binary numbers are (256, 128, 64, 32, 16, 8, 4, 2, 1).\n",
        "\n",
        "Examples:\n",
        "binary(1) ➞ \"1\"     # 1* 1 = 1 binary(5) ➞ \"101\"     # 1 1 + 1 4 = 5 binary(10) ➞ \"1010\"     # 1 2 + 1 8 = 10"
      ],
      "metadata": {
        "id": "ygni8VOKO1c4"
      }
    },
    {
      "cell_type": "code",
      "source": [
        "def getBinary():\n",
        "    in_num = int(input(\"Enter a Number: \"))\n",
        "    out_num = bin(in_num).replace('0b','')\n",
        "    print(f'Binary of {in_num} ➞ {out_num}')\n",
        "\n",
        "for x in range(3):\n",
        "    getBinary()"
      ],
      "metadata": {
        "colab": {
          "base_uri": "https://localhost:8080/"
        },
        "id": "e3ShjIYlO7-_",
        "outputId": "e827e507-af62-4cfb-ee55-6b6453f57b62"
      },
      "execution_count": null,
      "outputs": [
        {
          "output_type": "stream",
          "name": "stdout",
          "text": [
            "Enter a Number: 1\n",
            "Binary of 1 ➞ 1\n",
            "Enter a Number: 5\n",
            "Binary of 5 ➞ 101\n",
            "Enter a Number: 8\n",
            "Binary of 8 ➞ 1000\n"
          ]
        }
      ]
    }
  ]
}