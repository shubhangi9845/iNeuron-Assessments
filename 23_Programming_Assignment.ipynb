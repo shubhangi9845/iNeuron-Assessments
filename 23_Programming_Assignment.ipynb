{
  "nbformat": 4,
  "nbformat_minor": 0,
  "metadata": {
    "colab": {
      "provenance": [],
      "authorship_tag": "ABX9TyOrV1fIGd8zuyYjgHUD5ar6",
      "include_colab_link": true
    },
    "kernelspec": {
      "name": "python3",
      "display_name": "Python 3"
    },
    "language_info": {
      "name": "python"
    }
  },
  "cells": [
    {
      "cell_type": "markdown",
      "metadata": {
        "id": "view-in-github",
        "colab_type": "text"
      },
      "source": [
        "<a href=\"https://colab.research.google.com/github/shubhangi9845/iNeuron-Assessments/blob/Python-Programming-Basic-Assignment/23_Programming_Assignment.ipynb\" target=\"_parent\"><img src=\"https://colab.research.google.com/assets/colab-badge.svg\" alt=\"Open In Colab\"/></a>"
      ]
    },
    {
      "cell_type": "markdown",
      "source": [
        "##Assignment 23"
      ],
      "metadata": {
        "id": "0ui79fPWfQfm"
      }
    },
    {
      "cell_type": "markdown",
      "source": [
        "####1.Create a function that takes a number as an argument and returns True or False depending on whether the number is symmetrical or not. A number is symmetrical when it is the same as its reverse.\n",
        "Examples:\n",
        "\n",
        "is_symmetrical(7227) ➞ True\n",
        "\n",
        "is_symmetrical(12567) ➞ False\n",
        "\n",
        "is_symmetrical(44444444) ➞ True\n",
        "\n",
        "is_symmetrical(9939) ➞ False\n",
        "\n",
        "is_symmetrical(1112111) ➞ True"
      ],
      "metadata": {
        "id": "2r_VTShLfUZt"
      }
    },
    {
      "cell_type": "code",
      "source": [
        "def is_symmetrical(in_num):\n",
        "    if str(in_num) == str(in_num)[::-1]:\n",
        "        print(f'{in_num} ➞ {True}')\n",
        "    else:\n",
        "        print(f'{in_num} ➞ {False}')\n",
        "\n",
        "is_symmetrical(7227)\n",
        "is_symmetrical(12567)\n",
        "is_symmetrical(44444444)\n",
        "is_symmetrical(9939)\n",
        "is_symmetrical(1112111)"
      ],
      "metadata": {
        "colab": {
          "base_uri": "https://localhost:8080/"
        },
        "id": "YbsX-UGpfeJl",
        "outputId": "910ad61c-fe19-40ba-8804-cf36be4269f2"
      },
      "execution_count": null,
      "outputs": [
        {
          "output_type": "stream",
          "name": "stdout",
          "text": [
            "7227 ➞ True\n",
            "12567 ➞ False\n",
            "44444444 ➞ True\n",
            "9939 ➞ False\n",
            "1112111 ➞ True\n"
          ]
        }
      ]
    },
    {
      "cell_type": "markdown",
      "source": [
        "####2.Given a string of numbers separated by a comma and space, return the product of the numbers.\n",
        "Examples:\n",
        "\n",
        "multiply_nums(\"2, 3\") ➞ 6\n",
        "\n",
        "multiply_nums(\"1, 2, 3, 4\") ➞ 24\n",
        "\n",
        "multiply_nums(\"54, 75, 453, 0\") ➞ 0\n",
        "\n",
        "multiply_nums(\"10, -2\") ➞ -20"
      ],
      "metadata": {
        "id": "3gcPDBlBfsiB"
      }
    },
    {
      "cell_type": "code",
      "source": [
        "def multiply_nums(in_string):\n",
        "    out_string = in_string.replace(' ','').split(',')\n",
        "    out_num = 1\n",
        "    for ele in out_string:\n",
        "        out_num *= int(ele)\n",
        "    print(f'{in_string} ➞ {out_num}')\n",
        "\n",
        "multiply_nums(\"2, 3\")\n",
        "multiply_nums(\"1, 2, 3, 4\")\n",
        "multiply_nums(\"54, 75, 453, 0\")\n",
        "multiply_nums(\"10, -2\")"
      ],
      "metadata": {
        "colab": {
          "base_uri": "https://localhost:8080/"
        },
        "id": "zoJwsZNkfxTa",
        "outputId": "524ebaf5-9312-4b5c-a388-bd46876a1223"
      },
      "execution_count": null,
      "outputs": [
        {
          "output_type": "stream",
          "name": "stdout",
          "text": [
            "2, 3 ➞ 6\n",
            "1, 2, 3, 4 ➞ 24\n",
            "54, 75, 453, 0 ➞ 0\n",
            "10, -2 ➞ -20\n"
          ]
        }
      ]
    },
    {
      "cell_type": "markdown",
      "source": [
        "####3.Create a function that squares every digit of a number.\n",
        "Examples:\n",
        "\n",
        "square_digits(9119) ➞ 811181\n",
        "\n",
        "square_digits(2483) ➞ 416649\n",
        "\n",
        "square_digits(3212) ➞ 9414\n",
        "\n",
        "Notes:\n",
        "\n",
        "The function receives an integer and must return an integer."
      ],
      "metadata": {
        "id": "jzJK0fmIf6Bs"
      }
    },
    {
      "cell_type": "code",
      "source": [
        "def square_digits(in_num):\n",
        "    in_list = [str(int(ele)**2) for ele in str(in_num)]\n",
        "    out_list = ''.join(in_list)\n",
        "    print(f'{in_num} ➞ {int(out_list)}')\n",
        "\n",
        "square_digits(9119)\n",
        "square_digits(2483)\n",
        "square_digits(3212)"
      ],
      "metadata": {
        "colab": {
          "base_uri": "https://localhost:8080/"
        },
        "id": "ZBl2Kb9rgBbt",
        "outputId": "a246b7ab-e628-44a7-9558-33566a889c9b"
      },
      "execution_count": null,
      "outputs": [
        {
          "output_type": "stream",
          "name": "stdout",
          "text": [
            "9119 ➞ 811181\n",
            "2483 ➞ 416649\n",
            "3212 ➞ 9414\n"
          ]
        }
      ]
    },
    {
      "cell_type": "markdown",
      "source": [
        "####5.Create a function that returns the mean of all digits.\n",
        "Examples:\n",
        "\n",
        "mean(42) ➞ 3\n",
        "\n",
        "mean(12345) ➞ 3\n",
        "\n",
        "mean(666) ➞ 6\n",
        "\n",
        "Notes:\n",
        "\n",
        "1.The mean of all digits is the sum of digits / how many digits there are (e.g. mean of digits in 512 is (5+1+2)/3(number of digits) = 8/3=2).\n",
        "\n",
        "2.The mean will always be an integer."
      ],
      "metadata": {
        "id": "2yBZsSv_gK2k"
      }
    },
    {
      "cell_type": "code",
      "source": [
        "def mean(in_num):\n",
        "    in_list = [int(ele) for ele in str(in_num)]\n",
        "    out_num = sum(in_list)/len(str(in_num))\n",
        "    print(f'Mean of {in_num}  ➞ {out_num:.0f}')\n",
        "\n",
        "mean(42)\n",
        "mean(12345)\n",
        "mean(666)"
      ],
      "metadata": {
        "colab": {
          "base_uri": "https://localhost:8080/"
        },
        "id": "r-YAfnIKgUvt",
        "outputId": "45caae3f-607a-43a9-e638-89f54378dfaa"
      },
      "execution_count": null,
      "outputs": [
        {
          "output_type": "stream",
          "name": "stdout",
          "text": [
            "Mean of 42  ➞ 3\n",
            "Mean of 12345  ➞ 3\n",
            "Mean of 666  ➞ 6\n"
          ]
        }
      ]
    }
  ]
}