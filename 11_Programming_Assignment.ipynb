{
  "nbformat": 4,
  "nbformat_minor": 0,
  "metadata": {
    "colab": {
      "provenance": [],
      "toc_visible": true,
      "authorship_tag": "ABX9TyOPPZ34wRLTrIaksMusV1Dr",
      "include_colab_link": true
    },
    "kernelspec": {
      "name": "python3",
      "display_name": "Python 3"
    },
    "language_info": {
      "name": "python"
    }
  },
  "cells": [
    {
      "cell_type": "markdown",
      "metadata": {
        "id": "view-in-github",
        "colab_type": "text"
      },
      "source": [
        "<a href=\"https://colab.research.google.com/github/shubhangi9845/iNeuron-Assessments/blob/Python-Programming-Basic-Assignment/11_Programming_Assignment.ipynb\" target=\"_parent\"><img src=\"https://colab.research.google.com/assets/colab-badge.svg\" alt=\"Open In Colab\"/></a>"
      ]
    },
    {
      "cell_type": "markdown",
      "source": [
        "#Assignment 11"
      ],
      "metadata": {
        "id": "XqK2SABQKSbi"
      }
    },
    {
      "cell_type": "markdown",
      "source": [
        "1. Write a Python program to find words which are greater than given length k ?"
      ],
      "metadata": {
        "id": "zcqE0h3xvWyR"
      }
    },
    {
      "cell_type": "code",
      "source": [
        "def checkLengthOfString():\n",
        "    in_string = input(\"Enter the string: \")\n",
        "    in_length = int(input('Enter the length of the string: '))\n",
        "    out_string = []\n",
        "    for string in in_string.split(\" \"):\n",
        "        if len(string) > in_length:\n",
        "            out_string.append(string)\n",
        "    print(','.join(out_string))\n",
        "\n",
        "checkLengthOfString()"
      ],
      "metadata": {
        "colab": {
          "base_uri": "https://localhost:8080/"
        },
        "id": "xVFYvpeGvajS",
        "outputId": "4e7ae195-bac7-4e33-a579-f15f67d092c2"
      },
      "execution_count": null,
      "outputs": [
        {
          "output_type": "stream",
          "name": "stdout",
          "text": [
            "Enter the string: INeuron Full Stack Data Science Course is Awesome\n",
            "Enter the length of the string: 3\n",
            "INeuron,Full,Stack,Data,Science,Course,Awesome\n"
          ]
        }
      ]
    },
    {
      "cell_type": "markdown",
      "source": [
        "2. Write a Python program for removing i-th character from a string ?"
      ],
      "metadata": {
        "id": "jzuczzf9vxoI"
      }
    },
    {
      "cell_type": "code",
      "source": [
        "def removeCharacter():\n",
        "    in_string = input(\"Enter the String: \")\n",
        "    in_char_num = int(input(\"Enter the ith Character: \"))\n",
        "    out_string = ''\n",
        "    for ele in range(len(in_string)):\n",
        "        if ele != in_char_num:\n",
        "            out_string = out_string + in_string[ele]\n",
        "    print(out_string)\n",
        "\n",
        "removeCharacter()"
      ],
      "metadata": {
        "colab": {
          "base_uri": "https://localhost:8080/"
        },
        "id": "AP4vkCQjvzpf",
        "outputId": "76f94c0f-efa8-47af-fd1a-c4afdaff4fcd"
      },
      "execution_count": null,
      "outputs": [
        {
          "output_type": "stream",
          "name": "stdout",
          "text": [
            "Enter the String: vardhan\n",
            "Enter the ith Character: 7\n",
            "vardhan\n"
          ]
        }
      ]
    },
    {
      "cell_type": "markdown",
      "source": [
        "3. Write a Python program to split and join a string ?"
      ],
      "metadata": {
        "id": "EmUHapgIwAdO"
      }
    },
    {
      "cell_type": "code",
      "source": [
        "def splitJoinString():\n",
        "    in_string = input('Enter the string: ')\n",
        "    print(f\"Split String: {in_string.split(' ')}\")\n",
        "    print(f\"Join String: {' '.join(in_string.split(' '))}\")\n",
        "\n",
        "splitJoinString()"
      ],
      "metadata": {
        "colab": {
          "base_uri": "https://localhost:8080/"
        },
        "id": "f2Gf6VWywDx7",
        "outputId": "7972f7d3-fe9b-4369-8150-c285fad3fb3b"
      },
      "execution_count": null,
      "outputs": [
        {
          "output_type": "stream",
          "name": "stdout",
          "text": [
            "Enter the string: Ineuron Full Stack Data Science Course\n",
            "Split String: ['Ineuron', 'Full', 'Stack', 'Data', 'Science', 'Course']\n",
            "Join String: Ineuron Full Stack Data Science Course\n"
          ]
        }
      ]
    },
    {
      "cell_type": "markdown",
      "source": [
        "4. Write a Python to check if a given string is binary string or not ?"
      ],
      "metadata": {
        "id": "GAbccarNwUBC"
      }
    },
    {
      "cell_type": "code",
      "source": [
        "def checkBinary():\n",
        "    in_string = input('Enter the string: ')\n",
        "    stun = 0\n",
        "    for ele in in_string:\n",
        "        if ele in ['0','1']:\n",
        "            stun = 1\n",
        "            continue\n",
        "        else:\n",
        "            stun = 0\n",
        "            break\n",
        "    statement = 'is a binary string' if stun == 1 else 'is not a binart string'\n",
        "    print(f'{in_string} {statement}')\n",
        "\n",
        "checkBinary()\n",
        "checkBinary()"
      ],
      "metadata": {
        "colab": {
          "base_uri": "https://localhost:8080/"
        },
        "id": "oR9o31TlwVQ1",
        "outputId": "64a31b13-83ab-495c-b47e-99489d6b009c"
      },
      "execution_count": null,
      "outputs": [
        {
          "output_type": "stream",
          "name": "stdout",
          "text": [
            "Enter the string: 1234\n",
            "1234 is not a binart string\n",
            "Enter the string: 1010\n",
            "1010 is a binary string\n"
          ]
        }
      ]
    },
    {
      "cell_type": "markdown",
      "source": [
        "5. Write a Python program to find uncommon words from two Strings ?"
      ],
      "metadata": {
        "id": "9VMdgP0TwqKR"
      }
    },
    {
      "cell_type": "code",
      "source": [
        "def unCommonWords():\n",
        "    in_string_1 = set(input(\"Enter the String 1: \").split(' '))\n",
        "    in_string_2 = set(input(\"Enter the String 2: \").split(' '))\n",
        "    out_string = (in_string_1.union(in_string_2)).difference(in_string_1.intersection(in_string_2))\n",
        "    print(out_string)\n",
        "\n",
        "unCommonWords()"
      ],
      "metadata": {
        "colab": {
          "base_uri": "https://localhost:8080/"
        },
        "id": "zw-ke3_iwrK3",
        "outputId": "f4612d25-75d5-4005-90e5-d8967b6fb05a"
      },
      "execution_count": null,
      "outputs": [
        {
          "output_type": "stream",
          "name": "stdout",
          "text": [
            "Enter the String 1: uncommon words \n",
            "Enter the String 2: words  python\n",
            "{'uncommon', 'python'}\n"
          ]
        }
      ]
    },
    {
      "cell_type": "markdown",
      "source": [
        "6. Write a Python to find all duplicate characters in string ?"
      ],
      "metadata": {
        "id": "MJIosZMPxH7V"
      }
    },
    {
      "cell_type": "code",
      "source": [
        "def duplicateChars():\n",
        "    in_string = input('Enter the string: ')\n",
        "    non_duplicate_list = []\n",
        "    duplicate_list = []\n",
        "    for ele in in_string:\n",
        "        if ele not in non_duplicate_list:\n",
        "            non_duplicate_list.append(ele)\n",
        "        else:\n",
        "            duplicate_list.append(ele)\n",
        "    print(f'Duplicate characters are: {list(set(duplicate_list))}')\n",
        "\n",
        "duplicateChars()"
      ],
      "metadata": {
        "colab": {
          "base_uri": "https://localhost:8080/"
        },
        "id": "GmFmIcF3xL4X",
        "outputId": "c3292e2a-0d6e-4663-af9d-2ae981018077"
      },
      "execution_count": null,
      "outputs": [
        {
          "output_type": "stream",
          "name": "stdout",
          "text": [
            "Enter the string: full stack data science course\n",
            "Duplicate characters are: ['e', 's', 't', 'l', 'c', 'u', 'a', ' ']\n"
          ]
        }
      ]
    },
    {
      "cell_type": "markdown",
      "source": [
        "7. Write a Python Program to check if a string contains any special character?"
      ],
      "metadata": {
        "id": "qTAESYy0xYzE"
      }
    },
    {
      "cell_type": "code",
      "source": [
        "def checkSpecialChar():\n",
        "    spl_chars = '[@_!#$%^&*()<>?/\\|}{~:]'\n",
        "    in_num = input('Enter the string: ')\n",
        "    count = 0\n",
        "    char_list = []\n",
        "    for ele in in_num:\n",
        "        if ele in spl_chars:\n",
        "            char_list.append(ele)\n",
        "            count = count+1\n",
        "    print(f'There are {count} Speical Characters in {in_num} which are {char_list}')\n",
        "\n",
        "\n",
        "checkSpecialChar()\n",
        "checkSpecialChar()"
      ],
      "metadata": {
        "colab": {
          "base_uri": "https://localhost:8080/"
        },
        "id": "t9sWVT-jxcHm",
        "outputId": "7e188a5b-2ca8-4249-8bc3-b2e0ce36824c"
      },
      "execution_count": null,
      "outputs": [
        {
          "output_type": "stream",
          "name": "stdout",
          "text": [
            "Enter the string: DS @ Ineuron by Sudhanshu & krish\n",
            "There are 2 Speical Characters in DS @ Ineuron by Sudhanshu & krish which are ['@', '&']\n",
            "Enter the string: Write a Python Program:string\n",
            "There are 1 Speical Characters in Write a Python Program:string which are [':']\n"
          ]
        }
      ]
    }
  ]
}