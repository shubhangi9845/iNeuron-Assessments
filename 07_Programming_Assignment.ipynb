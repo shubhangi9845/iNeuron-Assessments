{
  "nbformat": 4,
  "nbformat_minor": 0,
  "metadata": {
    "colab": {
      "provenance": [],
      "authorship_tag": "ABX9TyP0xL67b8IXd4RN0tc1/hfu",
      "include_colab_link": true
    },
    "kernelspec": {
      "name": "python3",
      "display_name": "Python 3"
    },
    "language_info": {
      "name": "python"
    }
  },
  "cells": [
    {
      "cell_type": "markdown",
      "metadata": {
        "id": "view-in-github",
        "colab_type": "text"
      },
      "source": [
        "<a href=\"https://colab.research.google.com/github/shubhangi9845/iNeuron-Assessments/blob/Python-Programming-Basic-Assignment/07_Programming_Assignment.ipynb\" target=\"_parent\"><img src=\"https://colab.research.google.com/assets/colab-badge.svg\" alt=\"Open In Colab\"/></a>"
      ]
    },
    {
      "cell_type": "markdown",
      "source": [
        "#Assignment 7"
      ],
      "metadata": {
        "id": "1CJ3ZEXTkubn"
      }
    },
    {
      "cell_type": "markdown",
      "source": [
        "1. Write a Python Program to find sum of Array ?"
      ],
      "metadata": {
        "id": "ZGRO4foCku-V"
      }
    },
    {
      "cell_type": "code",
      "source": [
        "def sumOfArray():\n",
        "    in_arr = eval(input(\"Enter the Array: \"))\n",
        "    print(f'The sum of {in_arr} is {sum(in_arr)}')\n",
        "\n",
        "sumOfArray()"
      ],
      "metadata": {
        "colab": {
          "base_uri": "https://localhost:8080/"
        },
        "id": "h_4P6ODZk0MA",
        "outputId": "40a61253-f776-48d8-b7fb-24ae48a7acee"
      },
      "execution_count": null,
      "outputs": [
        {
          "output_type": "stream",
          "name": "stdout",
          "text": [
            "Enter the Array: [1,2,3,4]\n",
            "The sum of [1, 2, 3, 4] is 10\n"
          ]
        }
      ]
    },
    {
      "cell_type": "markdown",
      "source": [
        "2. Write a Python Program to find Largest element in an Array ?"
      ],
      "metadata": {
        "id": "i-3mnp5TlLir"
      }
    },
    {
      "cell_type": "code",
      "source": [
        "def largestElement():\n",
        "    in_arr = eval(input(\"Enter the Array: \"))\n",
        "    print(f\"The Largest Element in {in_arr} is {sorted(in_arr, reverse=True)[0]}\")\n",
        "\n",
        "largestElement()"
      ],
      "metadata": {
        "colab": {
          "base_uri": "https://localhost:8080/"
        },
        "id": "1zDjCXk4lMNy",
        "outputId": "42805cfe-f52b-4eff-a365-c7c31f4ef79e"
      },
      "execution_count": null,
      "outputs": [
        {
          "output_type": "stream",
          "name": "stdout",
          "text": [
            "Enter the Array: [1,2,3,4]\n",
            "The Largest Element in [1, 2, 3, 4] is 4\n"
          ]
        }
      ]
    },
    {
      "cell_type": "markdown",
      "source": [
        "3. Write a Python Program for array rotation ?"
      ],
      "metadata": {
        "id": "rIRWH4nylXCz"
      }
    },
    {
      "cell_type": "code",
      "source": [
        "def reverseOfArray():\n",
        "    in_arr = eval(input(\"Enter the Array: \"))\n",
        "    print(f\"The Reverse of Array {in_arr} is {in_arr[::-1]}\")\n",
        "\n",
        "reverseOfArray()"
      ],
      "metadata": {
        "colab": {
          "base_uri": "https://localhost:8080/"
        },
        "id": "zd-bOJsElX09",
        "outputId": "c4521227-9a82-46b7-ac47-78bc8d0c3f6d"
      },
      "execution_count": null,
      "outputs": [
        {
          "output_type": "stream",
          "name": "stdout",
          "text": [
            "Enter the Array: [12,16,11,13,30]\n",
            "The Reverse of Array [12, 16, 11, 13, 30] is [30, 13, 11, 16, 12]\n"
          ]
        }
      ]
    },
    {
      "cell_type": "markdown",
      "source": [
        "4. Write a Python Program to Split the array and add the first part to the end ?"
      ],
      "metadata": {
        "id": "Jhcdw0OHlkf-"
      }
    },
    {
      "cell_type": "code",
      "source": [
        "def sumOfSplits():\n",
        "    in_arr = eval(input(\"Enter the Array: \"))\n",
        "    print(f\"The Sum of First and Last Elements of Array {in_arr} is {in_arr[0]+in_arr[-1]}\")\n",
        "\n",
        "sumOfSplits()"
      ],
      "metadata": {
        "colab": {
          "base_uri": "https://localhost:8080/"
        },
        "id": "W_5D6P95lsgX",
        "outputId": "08271431-857c-4e43-da26-3c984097b61f"
      },
      "execution_count": null,
      "outputs": [
        {
          "output_type": "stream",
          "name": "stdout",
          "text": [
            "Enter the Array: [11,13,23,45]\n",
            "The Sum of First and Last Elements of Array [11, 13, 23, 45] is 56\n"
          ]
        }
      ]
    },
    {
      "cell_type": "markdown",
      "source": [
        "5. Write a Python Program to check if given array is Monotonic ?"
      ],
      "metadata": {
        "id": "hLXs0YFhl2tt"
      }
    },
    {
      "cell_type": "code",
      "source": [
        "def checkMonotonic():\n",
        "    in_arr = eval(input(\"Enter the Array: \"))\n",
        "    if(all(in_arr[i]<=in_arr[i+1] for i in range(len(in_arr)-1)) or all(in_arr[i]>=in_arr[i+1] for i in range(len(in_arr)-1))):\n",
        "        print(f'Array {in_arr} is Monotonic')\n",
        "    else:\n",
        "        print(f'Array {in_arr} is Not Monotonic')\n",
        "\n",
        "checkMonotonic()\n",
        "checkMonotonic()"
      ],
      "metadata": {
        "colab": {
          "base_uri": "https://localhost:8080/"
        },
        "id": "7oo6bvbPl4Aj",
        "outputId": "fe49050b-9cab-4732-a39e-7b1a4280971d"
      },
      "execution_count": null,
      "outputs": [
        {
          "output_type": "stream",
          "name": "stdout",
          "text": [
            "Enter the Array: [1,2,3,4]\n",
            "Array [1, 2, 3, 4] is Monotonic\n",
            "Enter the Array: [1,2,4,5,6]\n",
            "Array [1, 2, 4, 5, 6] is Monotonic\n"
          ]
        }
      ]
    }
  ]
}